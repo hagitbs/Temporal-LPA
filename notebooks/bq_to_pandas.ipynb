{
 "cells": [
  {
   "cell_type": "code",
   "execution_count": 89,
   "metadata": {},
   "outputs": [],
   "source": [
    "# pip install google-cloud-bigquery\n",
    "# pip install db-dtypes\n",
    "# pip install pandas-gbq\n",
    "# pip install pandas==1.2.4\n",
    "# pip install pandas-gbq==0.14.0\n",
    "from google.cloud import bigquery\n",
    "from google.oauth2 import service_account\n",
    "import pandas as pd\n",
    "credentialsPath = r'/Users/hagitbenshoshan/Documents/PHD/LPA/data/loco_hagit/iucc-learning-and-generalizing-722a70892df7.json'\n",
    "credentials = service_account.Credentials.from_service_account_file(credentialsPath)\n",
    "project_id= 'iucc-learning-and-generalizing'\n",
    "\n",
    "client = bigquery.Client(credentials=credentials) \n",
    "\n"
   ]
  },
  {
   "cell_type": "code",
   "execution_count": 90,
   "metadata": {},
   "outputs": [],
   "source": [
    "sql = \"SELECT * FROM `bigquery-public-data.irs_990.irs_990_2012`\"\n",
    " "
   ]
  },
  {
   "cell_type": "code",
   "execution_count": 91,
   "metadata": {},
   "outputs": [
    {
     "ename": "ValueError",
     "evalue": "Please install the 'db-dtypes' package to use this function.",
     "output_type": "error",
     "traceback": [
      "\u001b[0;31m---------------------------------------------------------------------------\u001b[0m",
      "\u001b[0;31mModuleNotFoundError\u001b[0m                       Traceback (most recent call last)",
      "File \u001b[0;32m/opt/homebrew/lib/python3.11/site-packages/google/cloud/bigquery/_pandas_helpers.py:42\u001b[0m\n\u001b[1;32m     41\u001b[0m \u001b[39mtry\u001b[39;00m:\n\u001b[0;32m---> 42\u001b[0m     \u001b[39mimport\u001b[39;00m \u001b[39mdb_dtypes\u001b[39;00m  \u001b[39m# type: ignore\u001b[39;00m\n\u001b[1;32m     44\u001b[0m     date_dtype_name \u001b[39m=\u001b[39m db_dtypes\u001b[39m.\u001b[39mDateDtype\u001b[39m.\u001b[39mname\n",
      "\u001b[0;31mModuleNotFoundError\u001b[0m: No module named 'db_dtypes'",
      "\nThe above exception was the direct cause of the following exception:\n",
      "\u001b[0;31mValueError\u001b[0m                                Traceback (most recent call last)",
      "Cell \u001b[0;32mIn[91], line 4\u001b[0m\n\u001b[1;32m      1\u001b[0m \u001b[39mimport\u001b[39;00m \u001b[39mdb_dtypes\u001b[39;00m\n\u001b[0;32m----> 4\u001b[0m df \u001b[39m=\u001b[39m pd\u001b[39m.\u001b[39;49mread_gbq(\u001b[39m\"\"\"\u001b[39;49m\n\u001b[1;32m      5\u001b[0m \u001b[39m    SELECT *\u001b[39;49m\n\u001b[1;32m      6\u001b[0m \u001b[39m    FROM `iucc-learning-and-generalizing.sotu.Adams_1826`\u001b[39;49m\n\u001b[1;32m      7\u001b[0m \u001b[39m    where txt is not null \u001b[39;49m\n\u001b[1;32m      8\u001b[0m \u001b[39m    LIMIT 10\u001b[39;49m\n\u001b[1;32m      9\u001b[0m \u001b[39m\"\"\"\u001b[39;49m , project_id\u001b[39m=\u001b[39;49mproject_id, credentials\u001b[39m=\u001b[39;49mcredentials)\n\u001b[1;32m     11\u001b[0m \u001b[39m#df = pd.read_gbq(sql , project_id='iucc-learning-and-generalizing') \u001b[39;00m\n",
      "File \u001b[0;32m/opt/homebrew/lib/python3.11/site-packages/pandas/io/gbq.py:194\u001b[0m, in \u001b[0;36mread_gbq\u001b[0;34m(query, project_id, index_col, col_order, reauth, auth_local_webserver, dialect, location, configuration, credentials, use_bqstorage_api, max_results, progress_bar_type)\u001b[0m\n\u001b[1;32m    191\u001b[0m kwargs[\u001b[39m\"\u001b[39m\u001b[39mprogress_bar_type\u001b[39m\u001b[39m\"\u001b[39m] \u001b[39m=\u001b[39m progress_bar_type\n\u001b[1;32m    192\u001b[0m \u001b[39m# END: new kwargs\u001b[39;00m\n\u001b[0;32m--> 194\u001b[0m \u001b[39mreturn\u001b[39;00m pandas_gbq\u001b[39m.\u001b[39;49mread_gbq(\n\u001b[1;32m    195\u001b[0m     query,\n\u001b[1;32m    196\u001b[0m     project_id\u001b[39m=\u001b[39;49mproject_id,\n\u001b[1;32m    197\u001b[0m     index_col\u001b[39m=\u001b[39;49mindex_col,\n\u001b[1;32m    198\u001b[0m     col_order\u001b[39m=\u001b[39;49mcol_order,\n\u001b[1;32m    199\u001b[0m     reauth\u001b[39m=\u001b[39;49mreauth,\n\u001b[1;32m    200\u001b[0m     auth_local_webserver\u001b[39m=\u001b[39;49mauth_local_webserver,\n\u001b[1;32m    201\u001b[0m     dialect\u001b[39m=\u001b[39;49mdialect,\n\u001b[1;32m    202\u001b[0m     location\u001b[39m=\u001b[39;49mlocation,\n\u001b[1;32m    203\u001b[0m     configuration\u001b[39m=\u001b[39;49mconfiguration,\n\u001b[1;32m    204\u001b[0m     credentials\u001b[39m=\u001b[39;49mcredentials,\n\u001b[1;32m    205\u001b[0m     \u001b[39m*\u001b[39;49m\u001b[39m*\u001b[39;49mkwargs,\n\u001b[1;32m    206\u001b[0m )\n",
      "File \u001b[0;32m/opt/homebrew/lib/python3.11/site-packages/pandas_gbq/gbq.py:949\u001b[0m, in \u001b[0;36mread_gbq\u001b[0;34m(query_or_table, project_id, index_col, columns, reauth, auth_local_webserver, dialect, location, configuration, credentials, use_bqstorage_api, max_results, verbose, private_key, progress_bar_type, dtypes, auth_redirect_uri, client_id, client_secret, col_order)\u001b[0m\n\u001b[1;32m    934\u001b[0m connector \u001b[39m=\u001b[39m GbqConnector(\n\u001b[1;32m    935\u001b[0m     project_id,\n\u001b[1;32m    936\u001b[0m     reauth\u001b[39m=\u001b[39mreauth,\n\u001b[0;32m   (...)\u001b[0m\n\u001b[1;32m    945\u001b[0m     client_secret\u001b[39m=\u001b[39mclient_secret,\n\u001b[1;32m    946\u001b[0m )\n\u001b[1;32m    948\u001b[0m \u001b[39mif\u001b[39;00m _is_query(query_or_table):\n\u001b[0;32m--> 949\u001b[0m     final_df \u001b[39m=\u001b[39m connector\u001b[39m.\u001b[39;49mrun_query(\n\u001b[1;32m    950\u001b[0m         query_or_table,\n\u001b[1;32m    951\u001b[0m         configuration\u001b[39m=\u001b[39;49mconfiguration,\n\u001b[1;32m    952\u001b[0m         max_results\u001b[39m=\u001b[39;49mmax_results,\n\u001b[1;32m    953\u001b[0m         progress_bar_type\u001b[39m=\u001b[39;49mprogress_bar_type,\n\u001b[1;32m    954\u001b[0m         dtypes\u001b[39m=\u001b[39;49mdtypes,\n\u001b[1;32m    955\u001b[0m     )\n\u001b[1;32m    956\u001b[0m \u001b[39melse\u001b[39;00m:\n\u001b[1;32m    957\u001b[0m     final_df \u001b[39m=\u001b[39m connector\u001b[39m.\u001b[39mdownload_table(\n\u001b[1;32m    958\u001b[0m         query_or_table,\n\u001b[1;32m    959\u001b[0m         max_results\u001b[39m=\u001b[39mmax_results,\n\u001b[1;32m    960\u001b[0m         progress_bar_type\u001b[39m=\u001b[39mprogress_bar_type,\n\u001b[1;32m    961\u001b[0m         dtypes\u001b[39m=\u001b[39mdtypes,\n\u001b[1;32m    962\u001b[0m     )\n",
      "File \u001b[0;32m/opt/homebrew/lib/python3.11/site-packages/pandas_gbq/gbq.py:541\u001b[0m, in \u001b[0;36mGbqConnector.run_query\u001b[0;34m(self, query, max_results, progress_bar_type, **kwargs)\u001b[0m\n\u001b[1;32m    536\u001b[0m     \u001b[39mreturn\u001b[39;00m pandas\u001b[39m.\u001b[39mDataFrame()\n\u001b[1;32m    538\u001b[0m rows_iter \u001b[39m=\u001b[39m \u001b[39mself\u001b[39m\u001b[39m.\u001b[39mclient\u001b[39m.\u001b[39mlist_rows(\n\u001b[1;32m    539\u001b[0m     query_reply\u001b[39m.\u001b[39mdestination, max_results\u001b[39m=\u001b[39mmax_results\n\u001b[1;32m    540\u001b[0m )\n\u001b[0;32m--> 541\u001b[0m \u001b[39mreturn\u001b[39;00m \u001b[39mself\u001b[39;49m\u001b[39m.\u001b[39;49m_download_results(\n\u001b[1;32m    542\u001b[0m     rows_iter,\n\u001b[1;32m    543\u001b[0m     max_results\u001b[39m=\u001b[39;49mmax_results,\n\u001b[1;32m    544\u001b[0m     progress_bar_type\u001b[39m=\u001b[39;49mprogress_bar_type,\n\u001b[1;32m    545\u001b[0m     user_dtypes\u001b[39m=\u001b[39;49mdtypes,\n\u001b[1;32m    546\u001b[0m )\n",
      "File \u001b[0;32m/opt/homebrew/lib/python3.11/site-packages/pandas_gbq/gbq.py:574\u001b[0m, in \u001b[0;36mGbqConnector._download_results\u001b[0;34m(self, rows_iter, max_results, progress_bar_type, user_dtypes)\u001b[0m\n\u001b[1;32m    572\u001b[0m     conversion_dtypes \u001b[39m=\u001b[39m _bqschema_to_nullsafe_dtypes(schema_fields)\n\u001b[1;32m    573\u001b[0m     conversion_dtypes\u001b[39m.\u001b[39mupdate(user_dtypes)\n\u001b[0;32m--> 574\u001b[0m     df \u001b[39m=\u001b[39m rows_iter\u001b[39m.\u001b[39;49mto_dataframe(\n\u001b[1;32m    575\u001b[0m         dtypes\u001b[39m=\u001b[39;49mconversion_dtypes,\n\u001b[1;32m    576\u001b[0m         progress_bar_type\u001b[39m=\u001b[39;49mprogress_bar_type,\n\u001b[1;32m    577\u001b[0m         create_bqstorage_client\u001b[39m=\u001b[39;49mcreate_bqstorage_client,\n\u001b[1;32m    578\u001b[0m         \u001b[39m*\u001b[39;49m\u001b[39m*\u001b[39;49mto_dataframe_kwargs,\n\u001b[1;32m    579\u001b[0m     )\n\u001b[1;32m    580\u001b[0m \u001b[39mexcept\u001b[39;00m \u001b[39mself\u001b[39m\u001b[39m.\u001b[39mhttp_error \u001b[39mas\u001b[39;00m ex:\n\u001b[1;32m    581\u001b[0m     \u001b[39mself\u001b[39m\u001b[39m.\u001b[39mprocess_http_error(ex)\n",
      "File \u001b[0;32m/opt/homebrew/lib/python3.11/site-packages/google/cloud/bigquery/table.py:2204\u001b[0m, in \u001b[0;36mRowIterator.to_dataframe\u001b[0;34m(self, bqstorage_client, dtypes, progress_bar_type, create_bqstorage_client, geography_as_object, bool_dtype, int_dtype, float_dtype, string_dtype, date_dtype, datetime_dtype, time_dtype, timestamp_dtype)\u001b[0m\n\u001b[1;32m   2033\u001b[0m \u001b[39mdef\u001b[39;00m \u001b[39mto_dataframe\u001b[39m(\n\u001b[1;32m   2034\u001b[0m     \u001b[39mself\u001b[39m,\n\u001b[1;32m   2035\u001b[0m     bqstorage_client: Optional[\u001b[39m\"\u001b[39m\u001b[39mbigquery_storage.BigQueryReadClient\u001b[39m\u001b[39m\"\u001b[39m] \u001b[39m=\u001b[39m \u001b[39mNone\u001b[39;00m,\n\u001b[0;32m   (...)\u001b[0m\n\u001b[1;32m   2047\u001b[0m     timestamp_dtype: Union[Any, \u001b[39mNone\u001b[39;00m] \u001b[39m=\u001b[39m \u001b[39mNone\u001b[39;00m,\n\u001b[1;32m   2048\u001b[0m ) \u001b[39m-\u001b[39m\u001b[39m>\u001b[39m \u001b[39m\"\u001b[39m\u001b[39mpandas.DataFrame\u001b[39m\u001b[39m\"\u001b[39m:\n\u001b[1;32m   2049\u001b[0m \u001b[39m    \u001b[39m\u001b[39m\"\"\"Create a pandas DataFrame by loading all pages of a query.\u001b[39;00m\n\u001b[1;32m   2050\u001b[0m \n\u001b[1;32m   2051\u001b[0m \u001b[39m    Args:\u001b[39;00m\n\u001b[0;32m   (...)\u001b[0m\n\u001b[1;32m   2202\u001b[0m \n\u001b[1;32m   2203\u001b[0m \u001b[39m    \"\"\"\u001b[39;00m\n\u001b[0;32m-> 2204\u001b[0m     _pandas_helpers\u001b[39m.\u001b[39;49mverify_pandas_imports()\n\u001b[1;32m   2206\u001b[0m     \u001b[39mif\u001b[39;00m geography_as_object \u001b[39mand\u001b[39;00m shapely \u001b[39mis\u001b[39;00m \u001b[39mNone\u001b[39;00m:\n\u001b[1;32m   2207\u001b[0m         \u001b[39mraise\u001b[39;00m \u001b[39mValueError\u001b[39;00m(_NO_SHAPELY_ERROR)\n",
      "File \u001b[0;32m/opt/homebrew/lib/python3.11/site-packages/google/cloud/bigquery/_pandas_helpers.py:970\u001b[0m, in \u001b[0;36mverify_pandas_imports\u001b[0;34m()\u001b[0m\n\u001b[1;32m    968\u001b[0m     \u001b[39mraise\u001b[39;00m \u001b[39mValueError\u001b[39;00m(_NO_PANDAS_ERROR) \u001b[39mfrom\u001b[39;00m \u001b[39mpandas_import_exception\u001b[39;00m\n\u001b[1;32m    969\u001b[0m \u001b[39mif\u001b[39;00m db_dtypes \u001b[39mis\u001b[39;00m \u001b[39mNone\u001b[39;00m:\n\u001b[0;32m--> 970\u001b[0m     \u001b[39mraise\u001b[39;00m \u001b[39mValueError\u001b[39;00m(_NO_DB_TYPES_ERROR) \u001b[39mfrom\u001b[39;00m \u001b[39mdb_dtypes_import_exception\u001b[39;00m\n",
      "\u001b[0;31mValueError\u001b[0m: Please install the 'db-dtypes' package to use this function."
     ]
    }
   ],
   "source": [
    "\n",
    "\n",
    " \n",
    " \n",
    "import db_dtypes\n",
    "\n",
    "\n",
    "df = pd.read_gbq(\"\"\"\n",
    "    SELECT *\n",
    "    FROM `iucc-learning-and-generalizing.sotu.Adams_1826`\n",
    "    where txt is not null \n",
    "    LIMIT 10\n",
    "\"\"\" , project_id=project_id, credentials=credentials)\n",
    "\n",
    "#df = pd.read_gbq(sql , project_id='iucc-learning-and-generalizing') \n"
   ]
  },
  {
   "cell_type": "code",
   "execution_count": 72,
   "metadata": {},
   "outputs": [
    {
     "data": {
      "text/plain": [
       "<google.cloud.bigquery.table.RowIterator at 0x11f9308d0>"
      ]
     },
     "execution_count": 72,
     "metadata": {},
     "output_type": "execute_result"
    }
   ],
   "source": [
    "results"
   ]
  }
 ],
 "metadata": {
  "kernelspec": {
   "display_name": "Python 3",
   "language": "python",
   "name": "python3"
  },
  "language_info": {
   "codemirror_mode": {
    "name": "ipython",
    "version": 3
   },
   "file_extension": ".py",
   "mimetype": "text/x-python",
   "name": "python",
   "nbconvert_exporter": "python",
   "pygments_lexer": "ipython3",
   "version": "3.11.7"
  },
  "orig_nbformat": 4,
  "vscode": {
   "interpreter": {
    "hash": "b0fa6594d8f4cbf19f97940f81e996739fb7646882a419484c72d19e05852a7e"
   }
  }
 },
 "nbformat": 4,
 "nbformat_minor": 2
}
