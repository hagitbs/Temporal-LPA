{
 "cells": [
  {
   "cell_type": "code",
   "execution_count": 3,
   "metadata": {},
   "outputs": [
    {
     "data": {
      "text/plain": [
       "DataTransformerRegistry.enable('default')"
      ]
     },
     "execution_count": 3,
     "metadata": {},
     "output_type": "execute_result"
    }
   ],
   "source": [
    "import pandas as pd\n",
    "import altair as alt\n",
    "import numpy as np\n",
    "from pathlib import Path\n",
    "from helpers import read\n",
    "\n",
    "import bottleneck as bn\n",
    "\n",
    "# import re\n",
    "# from algo import KLD_distance_overused\n",
    "# import string\n",
    "# from glob import glob\n",
    "# from collections import Counter\n",
    "# from datetime import datetime\n",
    "from LPA import Corpus, sockpuppet_distance\n",
    "from math import floor\n",
    "from scipy.spatial.distance import cdist\n",
    "\n",
    "from visualize import sockpuppet_matrix\n",
    "\n",
    "alt.data_transformers.disable_max_rows()"
   ]
  },
  {
   "cell_type": "code",
   "execution_count": null,
   "metadata": {},
   "outputs": [],
   "source": []
  },
  {
   "cell_type": "code",
   "execution_count": 74,
   "metadata": {},
   "outputs": [
    {
     "ename": "AttributeError",
     "evalue": "'numpy.ndarray' object has no attribute 'distance_matrix'",
     "output_type": "error",
     "traceback": [
      "\u001b[0;31m---------------------------------------------------------------------------\u001b[0m",
      "\u001b[0;31mAttributeError\u001b[0m                            Traceback (most recent call last)",
      "\u001b[1;32m/home/alexzabbey/Dropbox/Temporal/TLPA/Temporal-LPA/elections.ipynb Cell 2\u001b[0m in \u001b[0;36m<cell line: 6>\u001b[0;34m()\u001b[0m\n\u001b[1;32m      <a href='vscode-notebook-cell://wsl%2Bubuntu/home/alexzabbey/Dropbox/Temporal/TLPA/Temporal-LPA/elections.ipynb#X26sdnNjb2RlLXJlbW90ZQ%3D%3D?line=3'>4</a>\u001b[0m x \u001b[39m=\u001b[39m x\u001b[39m.\u001b[39mdrop(columns\u001b[39m=\u001b[39m[\u001b[39m\"\u001b[39m\u001b[39mfrequency_in_document_x\u001b[39m\u001b[39m\"\u001b[39m, \u001b[39m\"\u001b[39m\u001b[39mfrequency_in_document_y\u001b[39m\u001b[39m\"\u001b[39m,\u001b[39m\"\u001b[39m\u001b[39mparty_simplified\u001b[39m\u001b[39m\"\u001b[39m])\n\u001b[1;32m      <a href='vscode-notebook-cell://wsl%2Bubuntu/home/alexzabbey/Dropbox/Temporal/TLPA/Temporal-LPA/elections.ipynb#X26sdnNjb2RlLXJlbW90ZQ%3D%3D?line=4'>5</a>\u001b[0m cc \u001b[39m=\u001b[39m x\u001b[39m.\u001b[39mpivot_table(index\u001b[39m=\u001b[39m\u001b[39m\"\u001b[39m\u001b[39mdocument\u001b[39m\u001b[39m\"\u001b[39m, columns\u001b[39m=\u001b[39m\u001b[39m\"\u001b[39m\u001b[39melement\u001b[39m\u001b[39m\"\u001b[39m, values\u001b[39m=\u001b[39m\u001b[39m\"\u001b[39m\u001b[39mfrequency_in_document\u001b[39m\u001b[39m\"\u001b[39m)\u001b[39m.\u001b[39mto_numpy()\n\u001b[0;32m----> <a href='vscode-notebook-cell://wsl%2Bubuntu/home/alexzabbey/Dropbox/Temporal/TLPA/Temporal-LPA/elections.ipynb#X26sdnNjb2RlLXJlbW90ZQ%3D%3D?line=5'>6</a>\u001b[0m sockpuppet_distance(cc,cc)\n",
      "File \u001b[0;32m~/Dropbox/Temporal/TLPA/Temporal-LPA/xLPA.py:231\u001b[0m, in \u001b[0;36msockpuppet_distance\u001b[0;34m(corpus1, corpus2, res)\u001b[0m\n\u001b[1;32m    229\u001b[0m \u001b[39mif\u001b[39;00m prevelent:\n\u001b[1;32m    230\u001b[0m     temporary_array \u001b[39m=\u001b[39m np\u001b[39m.\u001b[39mcount_nonzero(\u001b[39mself\u001b[39m\u001b[39m.\u001b[39mmatrix\u001b[39m.\u001b[39mmatrix, axis\u001b[39m=\u001b[39m\u001b[39m0\u001b[39m) \u001b[39m<\u001b[39m\u001b[39m=\u001b[39m prevelent\n\u001b[0;32m--> 231\u001b[0m \u001b[39mself\u001b[39m\u001b[39m.\u001b[39mmatrix\u001b[39m.\u001b[39mepsilon_modification(epsilon)\n\u001b[1;32m    232\u001b[0m \u001b[39mself\u001b[39m\u001b[39m.\u001b[39mdistance_matrix \u001b[39m=\u001b[39m Matrix(\n\u001b[1;32m    233\u001b[0m     KLD_distance_overused(\u001b[39mself\u001b[39m\u001b[39m.\u001b[39mmatrix\u001b[39m.\u001b[39mmatrix, \u001b[39mself\u001b[39m\u001b[39m.\u001b[39mmatrix\u001b[39m.\u001b[39mdvr)\n\u001b[1;32m    234\u001b[0m )\n\u001b[1;32m    235\u001b[0m \u001b[39mif\u001b[39;00m prevelent:\n",
      "\u001b[0;31mAttributeError\u001b[0m: 'numpy.ndarray' object has no attribute 'distance_matrix'"
     ]
    }
   ],
   "source": [
    "freq = pd.read_csv(f\"data/us_elections/np_freq/1.csv\")\n",
    "x = pd.merge(\n",
    "    freq,\n",
    "    freq.drop(columns=[\"party_simplified\"]).groupby(\"document\").sum(numeric_only=True),\n",
    "    left_on=\"document\",\n",
    "    right_index=True,\n",
    ")\n",
    "x[\"frequency_in_document\"] = x[\"frequency_in_document_x\"] / x[\"frequency_in_document_y\"]\n",
    "x = x.drop(\n",
    "    columns=[\"frequency_in_document_x\", \"frequency_in_document_y\", \"party_simplified\"]\n",
    ")\n",
    "cc = x.pivot_table(\n",
    "    index=\"document\", columns=\"element\", values=\"frequency_in_document\"\n",
    ").to_numpy()\n",
    "sockpuppet_distance(cc, cc)\n",
    "# df = pd.DataFrame(\n",
    "#         cdist(cc[0], cc[1], metric=\"cityblock\"),\n",
    "#         index=corpus1.document_cat.categories,\n",
    "#         columns=corpus2.document_cat.categories,\n",
    "#     )\n",
    "#     df /= df.max().max()\n",
    "#     if res == \"table\":\n",
    "#         c1n = getattr(corpus1, \"name\", \"Corpus 2\")\n",
    "#         c2n = getattr(corpus2, \"name\", \"Corpus 1\")\n",
    "#         if c1n == c2n:\n",
    "#             c2n = c1n + \" \"\n",
    "#         df = (\n",
    "#             df.rename_axis(index=c1n)\n",
    "#             .melt(ignore_index=False, var_name=c2n)\n",
    "#             .reset_index()\n",
    "#         )\n",
    "#     return df"
   ]
  },
  {
   "cell_type": "code",
   "execution_count": 5,
   "metadata": {},
   "outputs": [],
   "source": [
    "df = pd.read_csv(\"data/us_elections/1976-2020-president.csv\")[\n",
    "    [\"year\", \"candidatevotes\", \"party_simplified\", \"state\"]\n",
    "]\n",
    "df = (\n",
    "    df[df[\"party_simplified\"].isin([\"DEMOCRAT\", \"REPUBLICAN\"])]\n",
    "    .rename(\n",
    "        columns={\n",
    "            \"state\": \"element\",\n",
    "            \"year\": \"document\",\n",
    "            \"candidatevotes\": \"frequency_in_document\",\n",
    "        }\n",
    "    )\n",
    "    .reset_index(drop=True)\n",
    ")\n",
    "df[df[\"party_simplified\"] == \"DEMOCRAT\"].reset_index(drop=True).to_csv(\n",
    "    \"data/us_elections/np_freq/0.csv\", index=False\n",
    ")\n",
    "# cs = []\n",
    "# for party in [\"DEMOCRAT\", \"DEMOCRAT\"]:\n",
    "#     corpus = Corpus(df[df[\"party_simplified\"] == party].reset_index(drop=True))\n",
    "#     dvr = corpus.create_dvr()\n",
    "#     sigs = corpus.create_signatures(epsilon=1/(len(dvr) * 2))\n",
    "#     cs.append(corpus)\n",
    "# spd = sockpuppet_distance(*cs)\n",
    "# sockpuppet_matrix(spd, \"DEMOCRAT\", \"DEMOCRAT 1\") #.save(\"dem_vs_dem.html\")"
   ]
  },
  {
   "cell_type": "code",
   "execution_count": 34,
   "metadata": {},
   "outputs": [],
   "source": [
    "num_to_year = {\n",
    "    14: 1996,\n",
    "    15: 1999,\n",
    "    16: 2003,\n",
    "    17: 2006,\n",
    "    18: 2009,\n",
    "    19: 2013,\n",
    "    20: 2015,\n",
    "    21: 2018,\n",
    "    22: 2019,\n",
    "    23: 2020,\n",
    "    24: 2021,\n",
    "    25: 2022,\n",
    "}"
   ]
  },
  {
   "cell_type": "markdown",
   "metadata": {},
   "source": [
    "### Preprocessing"
   ]
  },
  {
   "cell_type": "code",
   "execution_count": 35,
   "metadata": {},
   "outputs": [
    {
     "name": "stdout",
     "output_type": "stream",
     "text": [
      "1996\n",
      "1999\n",
      "2003\n",
      "2006\n",
      "2009\n",
      "2013\n",
      "2015\n",
      "2018\n",
      "2019\n",
      "2020\n",
      "2021\n",
      "2022\n"
     ]
    }
   ],
   "source": [
    "# heb_cols = [\"שם ישוב\", \"סמל ישוב\", \"בזב\", \"מצביעים\", \"פסולים\", \"כשרים\"]\n",
    "# eng_cols = [\"town_name\", \"town_code\", \"bzb\", \"voters\", \"valid_votes\", \"invalid_votes\"]\n",
    "# years = (\"2015\", \"2019a\", \"2019b\", \"2020\", \"2021\") #  (\"2015 - hebrew\", \"2019 - hebrew\",\n",
    "# drop_cols = {\n",
    "#     \"2019b\": [\"סמל ועדה\"],\n",
    "#     \"2020\": [\"סמל ועדה\", \"Unnamed: 37\"],\n",
    "#     \"2021\": [\"סמל ועדה\", \"Unnamed: 46\"],\n",
    "# } | {y: [] for y in years[:-3]}\n",
    "full_df = []\n",
    "# kv_df = []\n",
    "for num, year in num_to_year.items():\n",
    "    if num <= 20:\n",
    "        df = pd.read_excel(f\"data/elections/results_{num}.xls\")\n",
    "    else:\n",
    "        enc = {\"encoding\": \"iso8859_8\"} if num != 25 else {}\n",
    "        df = pd.read_csv(f\"data/elections/results_{num}.csv\", **enc)\n",
    "    print(year)\n",
    "    df.loc[\n",
    "        ((df[\"שם ישוב\"] == \"מעטפות חיצוניות\") | (df[\"שם ישוב\"] == \"מעטפות כפולות\")),\n",
    "        \"סמל ישוב\",\n",
    "    ] = 99999\n",
    "    df = df.drop(\n",
    "        columns=set(df.columns.tolist())\n",
    "        & {\n",
    "            \"קלפי\",\n",
    "            \"פיצול\",\n",
    "            \"שם ישוב\",\n",
    "            \"כתובת\",\n",
    "            \"בעלי זכות בחירה\",\n",
    "            \"בזב\",\n",
    "            \"נפה\",\n",
    "            \"מצביעים\",\n",
    "            \"כשרים\",\n",
    "            \"פסולים\",\n",
    "            \"מספר קלפי\",\n",
    "            \"ברזל\",\n",
    "            \"סמל ועדה\",\n",
    "            \"שופט\",\n",
    "            \"ריכוז\",\n",
    "            \"סמל קלפי\",\n",
    "        }\n",
    "    )\n",
    "    df = df.rename(columns={\"סמל ישוב\": \"element\"})\n",
    "    full_df.append(\n",
    "        df.groupby(\"element\", as_index=False)\n",
    "        .sum()\n",
    "        .melt(id_vars=[\"element\"], value_name=\"frequency_in_document\")\n",
    "        .assign(document=year)\n",
    "    )\n",
    "#     kv_df.append(df[[\"town_code\", \"town_name\"]])\n",
    "#     emet_df.append(df[df[\"party\"] == \"אמת\"][[\"document\",\"town_code\", \"votes\"]].rename(columns={\"town_code\": \"element\", \"votes\": \"frequency_in_document\"}).reset_index(drop=True))\n",
    "\n",
    "full_df = pd.concat(full_df)\n",
    "full_df = (\n",
    "    full_df[full_df[\"frequency_in_document\"] > 0]\n",
    "    .reset_index(drop=True)\n",
    "    .replace({\"אמת \": \"אמת\"})\n",
    ")\n",
    "for variable in full_df[\"variable\"].drop_duplicates().to_list():\n",
    "    full_df[full_df[\"variable\"] == variable].drop(columns=[\"variable\"]).to_csv(\n",
    "        f\"data/elections/parties/{variable}.csv\", index=False\n",
    "    )\n",
    "# emet_df[\"element\"] = emet_df[\"element\"].replace(9999, 99999)\n",
    "# emet_df\n",
    "full_df = full_df.rename(columns={\"element\": \"city\", \"variable\": \"element\"})"
   ]
  },
  {
   "cell_type": "code",
   "execution_count": 38,
   "metadata": {},
   "outputs": [],
   "source": [
    "cs = []\n",
    "for i in [3000, 3000]:\n",
    "    cs.append(\n",
    "        full_df[full_df[\"city\"] == i].reset_index(drop=True).drop(columns=[\"city\"])\n",
    "    )"
   ]
  },
  {
   "cell_type": "code",
   "execution_count": 5,
   "metadata": {},
   "outputs": [],
   "source": [
    "k = [\"שם יישוב\", \"סמל יישוב\"]\n",
    "v = [\"name\", \"element\"]\n",
    "kv = pd.read_excel(\"data/elections/bycode2021.xlsx\")[k].rename(columns=dict(zip(k, v)))\n",
    "kv = pd.concat(\n",
    "    [kv, pd.DataFrame([\"מעטפות חיצוניות\", 99999], index=v).T], ignore_index=True\n",
    ")\n",
    "\n",
    "# pd.DataFrame.from_dict(dict(zip(v, )), orient=\"columns\")"
   ]
  },
  {
   "cell_type": "code",
   "execution_count": 40,
   "metadata": {},
   "outputs": [
    {
     "name": "stderr",
     "output_type": "stream",
     "text": [
      "/home/alexzabbey/.virtualenvs/lpa/lib/python3.10/site-packages/altair/utils/core.py:317: FutureWarning: iteritems is deprecated and will be removed in a future version. Use .items instead.\n",
      "  for col_name, dtype in df.dtypes.iteritems():\n"
     ]
    },
    {
     "data": {
      "text/html": [
       "\n",
       "<div id=\"altair-viz-5b8e33abe4ca4584800195220d36991e\"></div>\n",
       "<script type=\"text/javascript\">\n",
       "  var VEGA_DEBUG = (typeof VEGA_DEBUG == \"undefined\") ? {} : VEGA_DEBUG;\n",
       "  (function(spec, embedOpt){\n",
       "    let outputDiv = document.currentScript.previousElementSibling;\n",
       "    if (outputDiv.id !== \"altair-viz-5b8e33abe4ca4584800195220d36991e\") {\n",
       "      outputDiv = document.getElementById(\"altair-viz-5b8e33abe4ca4584800195220d36991e\");\n",
       "    }\n",
       "    const paths = {\n",
       "      \"vega\": \"https://cdn.jsdelivr.net/npm//vega@5?noext\",\n",
       "      \"vega-lib\": \"https://cdn.jsdelivr.net/npm//vega-lib?noext\",\n",
       "      \"vega-lite\": \"https://cdn.jsdelivr.net/npm//vega-lite@4.17.0?noext\",\n",
       "      \"vega-embed\": \"https://cdn.jsdelivr.net/npm//vega-embed@6?noext\",\n",
       "    };\n",
       "\n",
       "    function maybeLoadScript(lib, version) {\n",
       "      var key = `${lib.replace(\"-\", \"\")}_version`;\n",
       "      return (VEGA_DEBUG[key] == version) ?\n",
       "        Promise.resolve(paths[lib]) :\n",
       "        new Promise(function(resolve, reject) {\n",
       "          var s = document.createElement('script');\n",
       "          document.getElementsByTagName(\"head\")[0].appendChild(s);\n",
       "          s.async = true;\n",
       "          s.onload = () => {\n",
       "            VEGA_DEBUG[key] = version;\n",
       "            return resolve(paths[lib]);\n",
       "          };\n",
       "          s.onerror = () => reject(`Error loading script: ${paths[lib]}`);\n",
       "          s.src = paths[lib];\n",
       "        });\n",
       "    }\n",
       "\n",
       "    function showError(err) {\n",
       "      outputDiv.innerHTML = `<div class=\"error\" style=\"color:red;\">${err}</div>`;\n",
       "      throw err;\n",
       "    }\n",
       "\n",
       "    function displayChart(vegaEmbed) {\n",
       "      vegaEmbed(outputDiv, spec, embedOpt)\n",
       "        .catch(err => showError(`Javascript Error: ${err.message}<br>This usually means there's a typo in your chart specification. See the javascript console for the full traceback.`));\n",
       "    }\n",
       "\n",
       "    if(typeof define === \"function\" && define.amd) {\n",
       "      requirejs.config({paths});\n",
       "      require([\"vega-embed\"], displayChart, err => showError(`Error loading script: ${err.message}`));\n",
       "    } else {\n",
       "      maybeLoadScript(\"vega\", \"5\")\n",
       "        .then(() => maybeLoadScript(\"vega-lite\", \"4.17.0\"))\n",
       "        .then(() => maybeLoadScript(\"vega-embed\", \"6\"))\n",
       "        .catch(showError)\n",
       "        .then(() => displayChart(vegaEmbed));\n",
       "    }\n",
       "  })({\"config\": {\"view\": {\"continuousWidth\": 400, \"continuousHeight\": 300}}, \"data\": {\"name\": \"data-25bd8640f47c8f42296560d45f0f5935\"}, \"mark\": \"rect\", \"encoding\": {\"color\": {\"field\": \"value\", \"type\": \"quantitative\"}, \"x\": {\"axis\": {\"orient\": \"top\"}, \"field\": \"Tel Aviv\", \"type\": \"ordinal\"}, \"y\": {\"field\": \"Tel Aviv 2\", \"type\": \"ordinal\"}}, \"$schema\": \"https://vega.github.io/schema/vega-lite/v4.17.0.json\", \"datasets\": {\"data-25bd8640f47c8f42296560d45f0f5935\": [{\"Tel Aviv\": 1996, \"Tel Aviv 2\": 1996, \"value\": 0.0}, {\"Tel Aviv\": 1999, \"Tel Aviv 2\": 1996, \"value\": 10.513163213421125}, {\"Tel Aviv\": 2003, \"Tel Aviv 2\": 1996, \"value\": 16.462777306815035}, {\"Tel Aviv\": 2006, \"Tel Aviv 2\": 1996, \"value\": 26.660137862418107}, {\"Tel Aviv\": 2009, \"Tel Aviv 2\": 1996, \"value\": 28.6502887198601}, {\"Tel Aviv\": 2013, \"Tel Aviv 2\": 1996, \"value\": 18.736923966267895}, {\"Tel Aviv\": 2015, \"Tel Aviv 2\": 1996, \"value\": 30.58403472722609}, {\"Tel Aviv\": 2018, \"Tel Aviv 2\": 1996, \"value\": 29.1844561397723}, {\"Tel Aviv\": 2019, \"Tel Aviv 2\": 1996, \"value\": 24.70425938303441}, {\"Tel Aviv\": 2020, \"Tel Aviv 2\": 1996, \"value\": 30.607706151522688}, {\"Tel Aviv\": 2021, \"Tel Aviv 2\": 1996, \"value\": 30.873174947347284}, {\"Tel Aviv\": 2022, \"Tel Aviv 2\": 1996, \"value\": 36.89506548986498}, {\"Tel Aviv\": 1996, \"Tel Aviv 2\": 1999, \"value\": 10.513163213421125}, {\"Tel Aviv\": 1999, \"Tel Aviv 2\": 1999, \"value\": 0.0}, {\"Tel Aviv\": 2003, \"Tel Aviv 2\": 1999, \"value\": 18.481010325661956}, {\"Tel Aviv\": 2006, \"Tel Aviv 2\": 1999, \"value\": 36.641683177804794}, {\"Tel Aviv\": 2009, \"Tel Aviv 2\": 1999, \"value\": 30.613932037316328}, {\"Tel Aviv\": 2013, \"Tel Aviv 2\": 1999, \"value\": 24.82418086579309}, {\"Tel Aviv\": 2015, \"Tel Aviv 2\": 1999, \"value\": 36.69899876638615}, {\"Tel Aviv\": 2018, \"Tel Aviv 2\": 1999, \"value\": 31.277986423738742}, {\"Tel Aviv\": 2019, \"Tel Aviv 2\": 1999, \"value\": 30.78912300687979}, {\"Tel Aviv\": 2020, \"Tel Aviv 2\": 1999, \"value\": 32.70123643548912}, {\"Tel Aviv\": 2021, \"Tel Aviv 2\": 1999, \"value\": 32.97007228918697}, {\"Tel Aviv\": 2022, \"Tel Aviv 2\": 1999, \"value\": 38.97604848932414}, {\"Tel Aviv\": 1996, \"Tel Aviv 2\": 2003, \"value\": 16.462777306815035}, {\"Tel Aviv\": 1999, \"Tel Aviv 2\": 2003, \"value\": 18.481010325661956}, {\"Tel Aviv\": 2003, \"Tel Aviv 2\": 2003, \"value\": 0.0}, {\"Tel Aviv\": 2006, \"Tel Aviv 2\": 2003, \"value\": 22.60756233742161}, {\"Tel Aviv\": 2009, \"Tel Aviv 2\": 2003, \"value\": 28.659895403715588}, {\"Tel Aviv\": 2013, \"Tel Aviv 2\": 2003, \"value\": 18.72095300700527}, {\"Tel Aviv\": 2015, \"Tel Aviv 2\": 2003, \"value\": 34.59137542084227}, {\"Tel Aviv\": 2018, \"Tel Aviv 2\": 2003, \"value\": 29.215126113800785}, {\"Tel Aviv\": 2019, \"Tel Aviv 2\": 2003, \"value\": 24.622558670159435}, {\"Tel Aviv\": 2020, \"Tel Aviv 2\": 2003, \"value\": 30.579431970242748}, {\"Tel Aviv\": 2021, \"Tel Aviv 2\": 2003, \"value\": 26.769882924642502}, {\"Tel Aviv\": 2022, \"Tel Aviv 2\": 2003, \"value\": 36.72871952219957}, {\"Tel Aviv\": 1996, \"Tel Aviv 2\": 2006, \"value\": 26.660137862418107}, {\"Tel Aviv\": 1999, \"Tel Aviv 2\": 2006, \"value\": 36.641683177804794}, {\"Tel Aviv\": 2003, \"Tel Aviv 2\": 2006, \"value\": 22.60756233742161}, {\"Tel Aviv\": 2006, \"Tel Aviv 2\": 2006, \"value\": 0.0}, {\"Tel Aviv\": 2009, \"Tel Aviv 2\": 2006, \"value\": 30.681684647154096}, {\"Tel Aviv\": 2013, \"Tel Aviv 2\": 2006, \"value\": 24.84993834214076}, {\"Tel Aviv\": 2015, \"Tel Aviv 2\": 2006, \"value\": 28.78022728894718}, {\"Tel Aviv\": 2018, \"Tel Aviv 2\": 2006, \"value\": 27.39559797227993}, {\"Tel Aviv\": 2019, \"Tel Aviv 2\": 2006, \"value\": 26.91551700238515}, {\"Tel Aviv\": 2020, \"Tel Aviv 2\": 2006, \"value\": 32.823857384787274}, {\"Tel Aviv\": 2021, \"Tel Aviv 2\": 2006, \"value\": 41.10007959566141}, {\"Tel Aviv\": 2022, \"Tel Aviv 2\": 2006, \"value\": 35.03709407270638}, {\"Tel Aviv\": 1996, \"Tel Aviv 2\": 2009, \"value\": 28.6502887198601}, {\"Tel Aviv\": 1999, \"Tel Aviv 2\": 2009, \"value\": 30.613932037316328}, {\"Tel Aviv\": 2003, \"Tel Aviv 2\": 2009, \"value\": 28.659895403715588}, {\"Tel Aviv\": 2006, \"Tel Aviv 2\": 2009, \"value\": 30.681684647154096}, {\"Tel Aviv\": 2009, \"Tel Aviv 2\": 2009, \"value\": 0.0}, {\"Tel Aviv\": 2013, \"Tel Aviv 2\": 2009, \"value\": 22.828721292310124}, {\"Tel Aviv\": 2015, \"Tel Aviv 2\": 2009, \"value\": 38.82855347634737}, {\"Tel Aviv\": 2018, \"Tel Aviv 2\": 2009, \"value\": 29.382242059090096}, {\"Tel Aviv\": 2019, \"Tel Aviv 2\": 2009, \"value\": 28.792898931802796}, {\"Tel Aviv\": 2020, \"Tel Aviv 2\": 2009, \"value\": 34.7050273468191}, {\"Tel Aviv\": 2021, \"Tel Aviv 2\": 2009, \"value\": 34.89880919034148}, {\"Tel Aviv\": 2022, \"Tel Aviv 2\": 2009, \"value\": 24.949428438564805}, {\"Tel Aviv\": 1996, \"Tel Aviv 2\": 2013, \"value\": 18.736923966267895}, {\"Tel Aviv\": 1999, \"Tel Aviv 2\": 2013, \"value\": 24.82418086579309}, {\"Tel Aviv\": 2003, \"Tel Aviv 2\": 2013, \"value\": 18.72095300700527}, {\"Tel Aviv\": 2006, \"Tel Aviv 2\": 2013, \"value\": 24.84993834214076}, {\"Tel Aviv\": 2009, \"Tel Aviv 2\": 2013, \"value\": 22.828721292310124}, {\"Tel Aviv\": 2013, \"Tel Aviv 2\": 2013, \"value\": 0.0}, {\"Tel Aviv\": 2015, \"Tel Aviv 2\": 2013, \"value\": 20.856740788362778}, {\"Tel Aviv\": 2018, \"Tel Aviv 2\": 2013, \"value\": 27.42732236355586}, {\"Tel Aviv\": 2019, \"Tel Aviv 2\": 2013, \"value\": 18.95518708141769}, {\"Tel Aviv\": 2020, \"Tel Aviv 2\": 2013, \"value\": 24.743913206276787}, {\"Tel Aviv\": 2021, \"Tel Aviv 2\": 2013, \"value\": 37.088126793488485}, {\"Tel Aviv\": 2022, \"Tel Aviv 2\": 2013, \"value\": 35.01850638368903}, {\"Tel Aviv\": 1996, \"Tel Aviv 2\": 2015, \"value\": 30.58403472722609}, {\"Tel Aviv\": 1999, \"Tel Aviv 2\": 2015, \"value\": 36.69899876638615}, {\"Tel Aviv\": 2003, \"Tel Aviv 2\": 2015, \"value\": 34.59137542084227}, {\"Tel Aviv\": 2006, \"Tel Aviv 2\": 2015, \"value\": 28.78022728894718}, {\"Tel Aviv\": 2009, \"Tel Aviv 2\": 2015, \"value\": 38.82855347634737}, {\"Tel Aviv\": 2013, \"Tel Aviv 2\": 2015, \"value\": 20.856740788362778}, {\"Tel Aviv\": 2015, \"Tel Aviv 2\": 2015, \"value\": 0.0}, {\"Tel Aviv\": 2018, \"Tel Aviv 2\": 2015, \"value\": 27.029806660867955}, {\"Tel Aviv\": 2019, \"Tel Aviv 2\": 2015, \"value\": 22.735845193522827}, {\"Tel Aviv\": 2020, \"Tel Aviv 2\": 2015, \"value\": 24.588509034501406}, {\"Tel Aviv\": 2021, \"Tel Aviv 2\": 2015, \"value\": 40.88746874413677}, {\"Tel Aviv\": 2022, \"Tel Aviv 2\": 2015, \"value\": 42.68293228869318}, {\"Tel Aviv\": 1996, \"Tel Aviv 2\": 2018, \"value\": 29.1844561397723}, {\"Tel Aviv\": 1999, \"Tel Aviv 2\": 2018, \"value\": 31.277986423738742}, {\"Tel Aviv\": 2003, \"Tel Aviv 2\": 2018, \"value\": 29.215126113800785}, {\"Tel Aviv\": 2006, \"Tel Aviv 2\": 2018, \"value\": 27.39559797227993}, {\"Tel Aviv\": 2009, \"Tel Aviv 2\": 2018, \"value\": 29.382242059090096}, {\"Tel Aviv\": 2013, \"Tel Aviv 2\": 2018, \"value\": 27.42732236355586}, {\"Tel Aviv\": 2015, \"Tel Aviv 2\": 2018, \"value\": 27.029806660867955}, {\"Tel Aviv\": 2018, \"Tel Aviv 2\": 2018, \"value\": 0.0}, {\"Tel Aviv\": 2019, \"Tel Aviv 2\": 2018, \"value\": 21.230944932142656}, {\"Tel Aviv\": 2020, \"Tel Aviv 2\": 2018, \"value\": 19.05703236153818}, {\"Tel Aviv\": 2021, \"Tel Aviv 2\": 2018, \"value\": 39.35682025361626}, {\"Tel Aviv\": 2022, \"Tel Aviv 2\": 2018, \"value\": 29.2815821706571}, {\"Tel Aviv\": 1996, \"Tel Aviv 2\": 2019, \"value\": 24.70425938303441}, {\"Tel Aviv\": 1999, \"Tel Aviv 2\": 2019, \"value\": 30.78912300687979}, {\"Tel Aviv\": 2003, \"Tel Aviv 2\": 2019, \"value\": 24.622558670159435}, {\"Tel Aviv\": 2006, \"Tel Aviv 2\": 2019, \"value\": 26.91551700238515}, {\"Tel Aviv\": 2009, \"Tel Aviv 2\": 2019, \"value\": 28.792898931802796}, {\"Tel Aviv\": 2013, \"Tel Aviv 2\": 2019, \"value\": 18.95518708141769}, {\"Tel Aviv\": 2015, \"Tel Aviv 2\": 2019, \"value\": 22.735845193522827}, {\"Tel Aviv\": 2018, \"Tel Aviv 2\": 2019, \"value\": 21.230944932142656}, {\"Tel Aviv\": 2019, \"Tel Aviv 2\": 2019, \"value\": 0.0}, {\"Tel Aviv\": 2020, \"Tel Aviv 2\": 2019, \"value\": 10.453023367204066}, {\"Tel Aviv\": 2021, \"Tel Aviv 2\": 2019, \"value\": 26.72140699603717}, {\"Tel Aviv\": 2022, \"Tel Aviv 2\": 2019, \"value\": 32.80236773916775}, {\"Tel Aviv\": 1996, \"Tel Aviv 2\": 2020, \"value\": 30.607706151522688}, {\"Tel Aviv\": 1999, \"Tel Aviv 2\": 2020, \"value\": 32.70123643548912}, {\"Tel Aviv\": 2003, \"Tel Aviv 2\": 2020, \"value\": 30.579431970242748}, {\"Tel Aviv\": 2006, \"Tel Aviv 2\": 2020, \"value\": 32.823857384787274}, {\"Tel Aviv\": 2009, \"Tel Aviv 2\": 2020, \"value\": 34.7050273468191}, {\"Tel Aviv\": 2013, \"Tel Aviv 2\": 2020, \"value\": 24.743913206276787}, {\"Tel Aviv\": 2015, \"Tel Aviv 2\": 2020, \"value\": 24.588509034501406}, {\"Tel Aviv\": 2018, \"Tel Aviv 2\": 2020, \"value\": 19.05703236153818}, {\"Tel Aviv\": 2019, \"Tel Aviv 2\": 2020, \"value\": 10.453023367204066}, {\"Tel Aviv\": 2020, \"Tel Aviv 2\": 2020, \"value\": 0.0}, {\"Tel Aviv\": 2021, \"Tel Aviv 2\": 2020, \"value\": 28.45336902458394}, {\"Tel Aviv\": 2022, \"Tel Aviv 2\": 2020, \"value\": 26.549662816537452}, {\"Tel Aviv\": 1996, \"Tel Aviv 2\": 2021, \"value\": 30.873174947347284}, {\"Tel Aviv\": 1999, \"Tel Aviv 2\": 2021, \"value\": 32.97007228918697}, {\"Tel Aviv\": 2003, \"Tel Aviv 2\": 2021, \"value\": 26.769882924642502}, {\"Tel Aviv\": 2006, \"Tel Aviv 2\": 2021, \"value\": 41.10007959566141}, {\"Tel Aviv\": 2009, \"Tel Aviv 2\": 2021, \"value\": 34.89880919034148}, {\"Tel Aviv\": 2013, \"Tel Aviv 2\": 2021, \"value\": 37.088126793488485}, {\"Tel Aviv\": 2015, \"Tel Aviv 2\": 2021, \"value\": 40.88746874413677}, {\"Tel Aviv\": 2018, \"Tel Aviv 2\": 2021, \"value\": 39.35682025361626}, {\"Tel Aviv\": 2019, \"Tel Aviv 2\": 2021, \"value\": 26.72140699603717}, {\"Tel Aviv\": 2020, \"Tel Aviv 2\": 2021, \"value\": 28.45336902458394}, {\"Tel Aviv\": 2021, \"Tel Aviv 2\": 2021, \"value\": 0.0}, {\"Tel Aviv\": 2022, \"Tel Aviv 2\": 2021, \"value\": 30.816269567338427}, {\"Tel Aviv\": 1996, \"Tel Aviv 2\": 2022, \"value\": 36.89506548986498}, {\"Tel Aviv\": 1999, \"Tel Aviv 2\": 2022, \"value\": 38.97604848932414}, {\"Tel Aviv\": 2003, \"Tel Aviv 2\": 2022, \"value\": 36.72871952219957}, {\"Tel Aviv\": 2006, \"Tel Aviv 2\": 2022, \"value\": 35.03709407270638}, {\"Tel Aviv\": 2009, \"Tel Aviv 2\": 2022, \"value\": 24.949428438564805}, {\"Tel Aviv\": 2013, \"Tel Aviv 2\": 2022, \"value\": 35.01850638368903}, {\"Tel Aviv\": 2015, \"Tel Aviv 2\": 2022, \"value\": 42.68293228869318}, {\"Tel Aviv\": 2018, \"Tel Aviv 2\": 2022, \"value\": 29.2815821706571}, {\"Tel Aviv\": 2019, \"Tel Aviv 2\": 2022, \"value\": 32.80236773916775}, {\"Tel Aviv\": 2020, \"Tel Aviv 2\": 2022, \"value\": 26.549662816537452}, {\"Tel Aviv\": 2021, \"Tel Aviv 2\": 2022, \"value\": 30.816269567338427}, {\"Tel Aviv\": 2022, \"Tel Aviv 2\": 2022, \"value\": 0.0}]}}, {\"mode\": \"vega-lite\"});\n",
       "</script>"
      ],
      "text/plain": [
       "alt.Chart(...)"
      ]
     },
     "execution_count": 40,
     "metadata": {},
     "output_type": "execute_result"
    }
   ],
   "source": [
    "css = []\n",
    "for f in cs:\n",
    "    corpus = Corpus(f)\n",
    "    dvr = corpus.create_dvr()\n",
    "    corpus.create_signatures(epsilon=1 / (len(dvr) * 2))\n",
    "    css.append(corpus)\n",
    "\n",
    "# print(css)\n",
    "spd = sockpuppet_distance(*css)\n",
    "sockpuppet_matrix(spd, \"Tel Aviv\", \"Tel Aviv 2\")"
   ]
  },
  {
   "cell_type": "markdown",
   "metadata": {},
   "source": [
    "### LPA"
   ]
  },
  {
   "cell_type": "code",
   "execution_count": 6,
   "metadata": {},
   "outputs": [
    {
     "data": {
      "text/html": [
       "<div>\n",
       "<style scoped>\n",
       "    .dataframe tbody tr th:only-of-type {\n",
       "        vertical-align: middle;\n",
       "    }\n",
       "\n",
       "    .dataframe tbody tr th {\n",
       "        vertical-align: top;\n",
       "    }\n",
       "\n",
       "    .dataframe thead th {\n",
       "        text-align: right;\n",
       "    }\n",
       "</style>\n",
       "<table border=\"1\" class=\"dataframe\">\n",
       "  <thead>\n",
       "    <tr style=\"text-align: right;\">\n",
       "      <th></th>\n",
       "      <th>element</th>\n",
       "      <th>global_weight</th>\n",
       "      <th>name</th>\n",
       "    </tr>\n",
       "  </thead>\n",
       "  <tbody>\n",
       "    <tr>\n",
       "      <th>0</th>\n",
       "      <td>3000</td>\n",
       "      <td>0.105517</td>\n",
       "      <td>ירושלים</td>\n",
       "    </tr>\n",
       "    <tr>\n",
       "      <th>1</th>\n",
       "      <td>6100</td>\n",
       "      <td>0.053490</td>\n",
       "      <td>בני ברק</td>\n",
       "    </tr>\n",
       "    <tr>\n",
       "      <th>2</th>\n",
       "      <td>99999</td>\n",
       "      <td>0.047087</td>\n",
       "      <td>מעטפות חיצוניות</td>\n",
       "    </tr>\n",
       "    <tr>\n",
       "      <th>3</th>\n",
       "      <td>70</td>\n",
       "      <td>0.045611</td>\n",
       "      <td>אשדוד</td>\n",
       "    </tr>\n",
       "    <tr>\n",
       "      <th>4</th>\n",
       "      <td>5000</td>\n",
       "      <td>0.043848</td>\n",
       "      <td>תל אביב -יפו</td>\n",
       "    </tr>\n",
       "    <tr>\n",
       "      <th>5</th>\n",
       "      <td>7400</td>\n",
       "      <td>0.032748</td>\n",
       "      <td>נתניה</td>\n",
       "    </tr>\n",
       "    <tr>\n",
       "      <th>6</th>\n",
       "      <td>6600</td>\n",
       "      <td>0.030517</td>\n",
       "      <td>חולון</td>\n",
       "    </tr>\n",
       "    <tr>\n",
       "      <th>7</th>\n",
       "      <td>9000</td>\n",
       "      <td>0.029700</td>\n",
       "      <td>באר שבע</td>\n",
       "    </tr>\n",
       "    <tr>\n",
       "      <th>8</th>\n",
       "      <td>7900</td>\n",
       "      <td>0.028214</td>\n",
       "      <td>פתח תקווה</td>\n",
       "    </tr>\n",
       "    <tr>\n",
       "      <th>9</th>\n",
       "      <td>8300</td>\n",
       "      <td>0.021468</td>\n",
       "      <td>ראשון לציון</td>\n",
       "    </tr>\n",
       "    <tr>\n",
       "      <th>10</th>\n",
       "      <td>6200</td>\n",
       "      <td>0.020434</td>\n",
       "      <td>בת ים</td>\n",
       "    </tr>\n",
       "    <tr>\n",
       "      <th>11</th>\n",
       "      <td>7100</td>\n",
       "      <td>0.020389</td>\n",
       "      <td>אשקלון</td>\n",
       "    </tr>\n",
       "    <tr>\n",
       "      <th>12</th>\n",
       "      <td>1309</td>\n",
       "      <td>0.016647</td>\n",
       "      <td>אלעד</td>\n",
       "    </tr>\n",
       "    <tr>\n",
       "      <th>13</th>\n",
       "      <td>2610</td>\n",
       "      <td>0.016163</td>\n",
       "      <td>בית שמש</td>\n",
       "    </tr>\n",
       "    <tr>\n",
       "      <th>14</th>\n",
       "      <td>4000</td>\n",
       "      <td>0.015572</td>\n",
       "      <td>חיפה</td>\n",
       "    </tr>\n",
       "    <tr>\n",
       "      <th>15</th>\n",
       "      <td>8400</td>\n",
       "      <td>0.014965</td>\n",
       "      <td>רחובות</td>\n",
       "    </tr>\n",
       "    <tr>\n",
       "      <th>16</th>\n",
       "      <td>246</td>\n",
       "      <td>0.014388</td>\n",
       "      <td>נתיבות</td>\n",
       "    </tr>\n",
       "    <tr>\n",
       "      <th>17</th>\n",
       "      <td>8500</td>\n",
       "      <td>0.013670</td>\n",
       "      <td>רמלה</td>\n",
       "    </tr>\n",
       "    <tr>\n",
       "      <th>18</th>\n",
       "      <td>8600</td>\n",
       "      <td>0.012051</td>\n",
       "      <td>רמת גן</td>\n",
       "    </tr>\n",
       "    <tr>\n",
       "      <th>19</th>\n",
       "      <td>2630</td>\n",
       "      <td>0.011772</td>\n",
       "      <td>קריית גת</td>\n",
       "    </tr>\n",
       "  </tbody>\n",
       "</table>\n",
       "</div>"
      ],
      "text/plain": [
       "   element  global_weight             name\n",
       "0     3000       0.105517          ירושלים\n",
       "1     6100       0.053490          בני ברק\n",
       "2    99999       0.047087  מעטפות חיצוניות\n",
       "3       70       0.045611            אשדוד\n",
       "4     5000       0.043848     תל אביב -יפו\n",
       "5     7400       0.032748            נתניה\n",
       "6     6600       0.030517            חולון\n",
       "7     9000       0.029700          באר שבע\n",
       "8     7900       0.028214        פתח תקווה\n",
       "9     8300       0.021468      ראשון לציון\n",
       "10    6200       0.020434            בת ים\n",
       "11    7100       0.020389           אשקלון\n",
       "12    1309       0.016647             אלעד\n",
       "13    2610       0.016163          בית שמש\n",
       "14    4000       0.015572             חיפה\n",
       "15    8400       0.014965           רחובות\n",
       "16     246       0.014388           נתיבות\n",
       "17    8500       0.013670             רמלה\n",
       "18    8600       0.012051           רמת גן\n",
       "19    2630       0.011772         קריית גת"
      ]
     },
     "execution_count": 6,
     "metadata": {},
     "output_type": "execute_result"
    }
   ],
   "source": [
    "corpus = Corpus(freq=emet_df)\n",
    "dvr = corpus.create_dvr()\n",
    "pd.merge(dvr, kv).head(20)"
   ]
  },
  {
   "cell_type": "code",
   "execution_count": 7,
   "metadata": {},
   "outputs": [
    {
     "data": {
      "text/plain": [
       "0.00039184952978056425"
      ]
     },
     "execution_count": 7,
     "metadata": {},
     "output_type": "execute_result"
    }
   ],
   "source": [
    "epsilon_frac = 2\n",
    "epsilon = 1 / (len(dvr) * epsilon_frac)\n",
    "epsilon"
   ]
  },
  {
   "cell_type": "code",
   "execution_count": 8,
   "metadata": {},
   "outputs": [
    {
     "name": "stdout",
     "output_type": "stream",
     "text": [
      "9\n"
     ]
    },
    {
     "data": {
      "text/plain": [
       "99999   -0.322609\n",
       "1309    -0.087919\n",
       "294      0.071905\n",
       "6600    -0.071485\n",
       "289      0.070993\n",
       "633      0.061211\n",
       "5000    -0.058087\n",
       "139      0.055845\n",
       "167      0.052052\n",
       "7400    -0.051288\n",
       "Name: 1996, dtype: float64"
      ]
     },
     "metadata": {},
     "output_type": "display_data"
    }
   ],
   "source": [
    "prevelent = floor(len(corpus) * 0.75)\n",
    "print(prevelent)\n",
    "signatures, most_significant, temporary_array = corpus.create_signatures(\n",
    "    epsilon=epsilon, most_significant=30, sig_length=500, prevelent=prevelent\n",
    ")\n",
    "display(signatures[0].head(10))"
   ]
  },
  {
   "cell_type": "code",
   "execution_count": null,
   "metadata": {},
   "outputs": [],
   "source": []
  }
 ],
 "metadata": {
  "kernelspec": {
   "display_name": "Python 3.10.7 ('lpa')",
   "language": "python",
   "name": "python3"
  },
  "language_info": {
   "codemirror_mode": {
    "name": "ipython",
    "version": 3
   },
   "file_extension": ".py",
   "mimetype": "text/x-python",
   "name": "python",
   "nbconvert_exporter": "python",
   "pygments_lexer": "ipython3",
   "version": "3.10.13"
  },
  "orig_nbformat": 4,
  "vscode": {
   "interpreter": {
    "hash": "602d5137c5051c7ad1050fca0bcc77f792b5903d7dd0c5290bd7ccb1dc571dda"
   }
  }
 },
 "nbformat": 4,
 "nbformat_minor": 2
}
