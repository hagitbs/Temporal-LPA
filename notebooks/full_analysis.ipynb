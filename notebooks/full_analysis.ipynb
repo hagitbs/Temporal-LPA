{
 "cells": [
  {
   "cell_type": "code",
   "execution_count": null,
   "metadata": {},
   "outputs": [],
   "source": [
    "import pandas as pd\n",
    "from xlp"
   ]
  },
  {
   "cell_type": "code",
   "execution_count": null,
   "metadata": {},
   "outputs": [],
   "source": [
    "freq = pd.read_csv(f\"data/sotu/np_freq/0.csv\")\n",
    "corpus = Corpus(freq)\n",
    "dvr = corpus.create_dvr(equally_weighted=True)\n",
    "sigs = corpus.create_signatures(distance=\"JSD\", alpha=0.5, sig_length=10)\n",
    "sockpuppet_matrix(sockpuppet_distance(corpus, corpus, heuristic=False)).properties(\n",
    "    title=(\"State of the Union Address\")\n",
    ").configure_axis(title=None).properties(width=900, height=900)\n",
    "#save(\n",
    "#     f\"results/sotu/jsd_sotu_sockpuppets.html\"\n",
    "# )\n",
    "# sigs[1].to_csv(\"results/sotu/top_30_most_changing_distance.csv\")\n"
   ]
  },
  {
   "cell_type": "code",
   "execution_count": null,
   "metadata": {},
   "outputs": [],
   "source": []
  }
 ],
 "metadata": {
  "language_info": {
   "name": "python"
  },
  "orig_nbformat": 4
 },
 "nbformat": 4,
 "nbformat_minor": 2
}
